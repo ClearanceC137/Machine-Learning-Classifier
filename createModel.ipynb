{
 "cells": [
  {
   "cell_type": "code",
   "execution_count": 1,
   "metadata": {},
   "outputs": [],
   "source": [
    "# Import required libraries\n",
    "import pandas as pd\n",
    "import numpy as np \n",
    "import matplotlib.pyplot as plt\n",
    "import sklearn\n",
    "import joblib\n",
    "\n",
    "# Import necessary modules\n",
    "from sklearn.model_selection import train_test_split\n",
    "from sklearn.metrics import mean_squared_error\n",
    "from math import sqrt\n",
    "from sklearn.metrics import r2_score\n",
    "from sklearn.metrics import classification_report,confusion_matrix\n",
    "from sklearn import metrics\n",
    "from sklearn.naive_bayes import GaussianNB\n",
    "from sklearn.linear_model import LogisticRegression\n",
    "from sklearn.model_selection import cross_val_predict\n",
    "from sklearn.neural_network import MLPClassifier\n",
    "from sklearn.neural_network import MLPRegressor\n",
    "from numpy.linalg import eig"
   ]
  },
  {
   "cell_type": "code",
   "execution_count": 2,
   "metadata": {},
   "outputs": [],
   "source": [
    "# import dataset\n",
    "inputs = open(\"inputs.txt\")\n",
    "labels  = open(\"labels.txt\")\n",
    "data_set = []     \n",
    "classes = []\n",
    "for x ,y in zip(inputs ,labels):\n",
    "    data_set.append(x.split(\" \"))\n",
    "    classes.append(int(y))\n",
    "row = len(data_set)\n",
    "col = len(data_set[0])\n",
    "for i in range(row):\n",
    "    for j in range(col):\n",
    "        data_set[i][j] = float(data_set[i][j])\n"
   ]
  },
  {
   "cell_type": "code",
   "execution_count": 3,
   "metadata": {},
   "outputs": [],
   "source": [
    "# splitting data into training and test , when submitting use all data to train model\n",
    "X_train, X_test, y_train, y_test = train_test_split(np.array(data_set), np.array(classes), test_size=0.3,random_state=50) # 70% training and 30% test"
   ]
  },
  {
   "cell_type": "code",
   "execution_count": 4,
   "metadata": {},
   "outputs": [
    {
     "name": "stdout",
     "output_type": "stream",
     "text": [
      "[[49  0  0  0  0  1  0  0  1  0]\n",
      " [ 2 58  0  0  0  0  1  0  0  0]\n",
      " [ 0  3 47  3  0  0  1  2  1  1]\n",
      " [ 1  2  2 44  0  4  1  3  3  1]\n",
      " [ 0  3  1  0 50  0  1  0  0  3]\n",
      " [ 0  1  0  1  1 46  2  0  1  1]\n",
      " [ 0  0  0  0  1  0 71  0  0  0]\n",
      " [ 1  0  3  1  1  0  0 55  2  3]\n",
      " [ 0  2  2  0  0  3  0  1 47  2]\n",
      " [ 1  0  0  2  4  1  0  2  1 52]]\n",
      "              precision    recall  f1-score   support\n",
      "\n",
      "           0       0.91      0.96      0.93        51\n",
      "           1       0.84      0.95      0.89        61\n",
      "           2       0.85      0.81      0.83        58\n",
      "           3       0.86      0.72      0.79        61\n",
      "           4       0.88      0.86      0.87        58\n",
      "           5       0.84      0.87      0.85        53\n",
      "           6       0.92      0.99      0.95        72\n",
      "           7       0.87      0.83      0.85        66\n",
      "           8       0.84      0.82      0.83        57\n",
      "           9       0.83      0.83      0.83        63\n",
      "\n",
      "   micro avg       0.86      0.86      0.86       600\n",
      "   macro avg       0.86      0.86      0.86       600\n",
      "weighted avg       0.86      0.86      0.86       600\n",
      "\n"
     ]
    }
   ],
   "source": [
    "#using a logistic model \n",
    "logisticRegr = LogisticRegression(solver ='lbfgs' ,max_iter=500,tol=0.001 , random_state = 12 ,multi_class ='auto' ,warm_start =True )\n",
    "logisticRegr.fit(X_train, y_train)\n",
    "predict_test_lr = logisticRegr.predict(X_test)\n",
    "print(confusion_matrix(y_test,predict_test_lr))\n",
    "print(classification_report(y_test,predict_test_lr))"
   ]
  },
  {
   "cell_type": "code",
   "execution_count": 5,
   "metadata": {},
   "outputs": [
    {
     "data": {
      "text/plain": [
       "['logistic_Regression.sav']"
      ]
     },
     "execution_count": 5,
     "metadata": {},
     "output_type": "execute_result"
    }
   ],
   "source": [
    "joblib.dump(logisticRegr, 'logistic_Regression.pkl')"
   ]
  },
  {
   "cell_type": "code",
   "execution_count": 6,
   "metadata": {},
   "outputs": [
    {
     "name": "stdout",
     "output_type": "stream",
     "text": [
      "[[49  0  0  0  0  1  0  0  1  0]\n",
      " [ 2 58  0  0  0  0  1  0  0  0]\n",
      " [ 0  3 47  3  0  0  1  2  1  1]\n",
      " [ 1  2  2 44  0  4  1  3  3  1]\n",
      " [ 0  3  1  0 50  0  1  0  0  3]\n",
      " [ 0  1  0  1  1 46  2  0  1  1]\n",
      " [ 0  0  0  0  1  0 71  0  0  0]\n",
      " [ 1  0  3  1  1  0  0 55  2  3]\n",
      " [ 0  2  2  0  0  3  0  1 47  2]\n",
      " [ 1  0  0  2  4  1  0  2  1 52]]\n",
      "              precision    recall  f1-score   support\n",
      "\n",
      "           0       0.91      0.96      0.93        51\n",
      "           1       0.84      0.95      0.89        61\n",
      "           2       0.85      0.81      0.83        58\n",
      "           3       0.86      0.72      0.79        61\n",
      "           4       0.88      0.86      0.87        58\n",
      "           5       0.84      0.87      0.85        53\n",
      "           6       0.92      0.99      0.95        72\n",
      "           7       0.87      0.83      0.85        66\n",
      "           8       0.84      0.82      0.83        57\n",
      "           9       0.83      0.83      0.83        63\n",
      "\n",
      "   micro avg       0.86      0.86      0.86       600\n",
      "   macro avg       0.86      0.86      0.86       600\n",
      "weighted avg       0.86      0.86      0.86       600\n",
      "\n"
     ]
    }
   ],
   "source": [
    "trained_model = joblib.load('logistic_Regression.pkl')\n",
    "predict_test_lr = trained_model.predict(X_test)\n",
    "print(confusion_matrix(y_test,predict_test_lr))\n",
    "print(classification_report(y_test,predict_test_lr))"
   ]
  },
  {
   "cell_type": "code",
   "execution_count": 8,
   "metadata": {},
   "outputs": [
    {
     "data": {
      "text/plain": [
       "0.13333333333333333"
      ]
     },
     "execution_count": 8,
     "metadata": {},
     "output_type": "execute_result"
    }
   ],
   "source": []
  }
 ],
 "metadata": {
  "kernelspec": {
   "display_name": "Python 3",
   "language": "python",
   "name": "python3"
  },
  "language_info": {
   "codemirror_mode": {
    "name": "ipython",
    "version": 3
   },
   "file_extension": ".py",
   "mimetype": "text/x-python",
   "name": "python",
   "nbconvert_exporter": "python",
   "pygments_lexer": "ipython3",
   "version": "3.7.4"
  }
 },
 "nbformat": 4,
 "nbformat_minor": 2
}
